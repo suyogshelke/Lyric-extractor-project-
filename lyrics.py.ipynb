{
 "cells": [
  {
   "cell_type": "code",
   "execution_count": 2,
   "id": "7b5fcb0a",
   "metadata": {},
   "outputs": [],
   "source": [
    "from tkinter import *\n",
    "from tkinter import ttk\n",
    "root = Tk()\n",
    "frm = ttk.Frame(root, padding=10)\n",
    "frm.grid()\n",
    "ttk.Label(frm, text=\"Hello World!\").grid(column=0, row=0)\n",
    "ttk.Button(frm, text=\"Quit\", command=root.destroy).grid(column=1, row=0)\n",
    "root.mainloop()\n"
   ]
  },
  {
   "cell_type": "code",
   "execution_count": 3,
   "id": "8008e8d5",
   "metadata": {},
   "outputs": [],
   "source": [
    "import tkinter as tk\n",
    "from tkinter import messagebox\n",
    "import lyricsgenius"
   ]
  },
  {
   "cell_type": "code",
   "execution_count": 7,
   "id": "af03e356",
   "metadata": {},
   "outputs": [],
   "source": [
    "genius = lyricsgenius.Genius(\"your_access_token\")\n"
   ]
  },
  {
   "cell_type": "code",
   "execution_count": null,
   "id": "a4639492",
   "metadata": {},
   "outputs": [
    {
     "name": "stdout",
     "output_type": "stream",
     "text": [
      "Searching for \"Ae Dil  Hai Mushkil\" by Arijit Singh...\n",
      "Done.\n",
      "Searching for \"Ae Dil  Hai Mushkil\" by Arijit Singh...\n",
      "Done.\n"
     ]
    }
   ],
   "source": [
    "class LyricsApp:\n",
    "    def __init__(self, root):\n",
    "        self.root = root\n",
    "        self.root.title(\"Lyrics Extractor\")\n",
    "\n",
    "        self.label = tk.Label(root, text=\"Enter the song and artist:\")\n",
    "        self.label.pack(pady=10)\n",
    "\n",
    "        self.entry_song = tk.Entry(root, width=50)\n",
    "        self.entry_song.pack(pady=5)\n",
    "        self.entry_song.insert(0, \"Song Name\")\n",
    "\n",
    "        self.entry_artist = tk.Entry(root, width=50)\n",
    "        self.entry_artist.pack(pady=5)\n",
    "        self.entry_artist.insert(0, \"Artist Name\")\n",
    "\n",
    "        self.get_lyrics_button = tk.Button(root, text=\"Get Lyrics\", command=self.get_lyrics)\n",
    "        self.get_lyrics_button.pack(pady=20)\n",
    "\n",
    "        self.lyrics_text = tk.Text(root, wrap='word', height=20, width=80)\n",
    "        self.lyrics_text.pack(pady=10)\n",
    "\n",
    "    def get_lyrics(self):\n",
    "        song_name = self.entry_song.get()\n",
    "        artist_name = self.entry_artist.get()\n",
    "        \n",
    "        try:\n",
    "            song = genius.search_song(song_name, artist_name)\n",
    "            if song:\n",
    "                self.lyrics_text.delete(1.0, tk.END)\n",
    "                self.lyrics_text.insert(tk.END, song.lyrics)\n",
    "            else:\n",
    "                messagebox.showinfo(\"Not Found\", \"Lyrics not found!\")\n",
    "        except Exception as e:\n",
    "            messagebox.showerror(\"Error\", str(e))\n",
    "\n",
    "if __name__ == \"__main__\":\n",
    "    root = tk.Tk()\n",
    "    app = LyricsApp(root)\n",
    "    root.mainloop()\n"
   ]
  },
  {
   "cell_type": "code",
   "execution_count": null,
   "id": "229b75fd",
   "metadata": {},
   "outputs": [],
   "source": []
  },
  {
   "cell_type": "code",
   "execution_count": null,
   "id": "ceeccd4f",
   "metadata": {},
   "outputs": [],
   "source": []
  }
 ],
 "metadata": {
  "kernelspec": {
   "display_name": "Python 3 (ipykernel)",
   "language": "python",
   "name": "python3"
  },
  "language_info": {
   "codemirror_mode": {
    "name": "ipython",
    "version": 3
   },
   "file_extension": ".py",
   "mimetype": "text/x-python",
   "name": "python",
   "nbconvert_exporter": "python",
   "pygments_lexer": "ipython3",
   "version": "3.9.13"
  }
 },
 "nbformat": 4,
 "nbformat_minor": 5
}
